{
 "cells": [
  {
   "cell_type": "code",
   "execution_count": 1,
   "metadata": {},
   "outputs": [],
   "source": [
    "import numpy as np\n",
    "from sklearn.datasets import load_iris\n",
    "from sklearn.linear_model import Perceptron\n",
    "\n",
    "iris = load_iris()\n",
    "X = iris.data[:,(2,3)]\n",
    "y= (iris.target == 0).astype(np.int)"
   ]
  },
  {
   "cell_type": "code",
   "execution_count": 2,
   "metadata": {},
   "outputs": [
    {
     "data": {
      "text/plain": [
       "Perceptron(alpha=0.0001, class_weight=None, early_stopping=False, eta0=1.0,\n",
       "           fit_intercept=True, max_iter=1000, n_iter_no_change=5, n_jobs=None,\n",
       "           penalty=None, random_state=0, shuffle=True, tol=0.001,\n",
       "           validation_fraction=0.1, verbose=0, warm_start=False)"
      ]
     },
     "execution_count": 2,
     "metadata": {},
     "output_type": "execute_result"
    }
   ],
   "source": [
    "per_clf = Perceptron()\n",
    "per_clf.fit(X,y)"
   ]
  },
  {
   "cell_type": "code",
   "execution_count": 3,
   "metadata": {},
   "outputs": [],
   "source": [
    "y_pred = per_clf.predict([[2,0.5]])"
   ]
  },
  {
   "cell_type": "code",
   "execution_count": 4,
   "metadata": {},
   "outputs": [
    {
     "data": {
      "text/plain": [
       "array([0])"
      ]
     },
     "execution_count": 4,
     "metadata": {},
     "output_type": "execute_result"
    }
   ],
   "source": [
    "y_pred"
   ]
  },
  {
   "cell_type": "code",
   "execution_count": null,
   "metadata": {},
   "outputs": [],
   "source": []
  },
  {
   "cell_type": "code",
   "execution_count": null,
   "metadata": {},
   "outputs": [],
   "source": []
  },
  {
   "cell_type": "code",
   "execution_count": 1,
   "metadata": {},
   "outputs": [
    {
     "data": {
      "text/plain": [
       "'2.1.0'"
      ]
     },
     "execution_count": 1,
     "metadata": {},
     "output_type": "execute_result"
    }
   ],
   "source": [
    "import tensorflow as tf\n",
    "from tensorflow import keras\n",
    "tf.__version__"
   ]
  },
  {
   "cell_type": "code",
   "execution_count": 2,
   "metadata": {},
   "outputs": [
    {
     "data": {
      "text/plain": [
       "'2.2.4-tf'"
      ]
     },
     "execution_count": 2,
     "metadata": {},
     "output_type": "execute_result"
    }
   ],
   "source": [
    "keras.__version__"
   ]
  },
  {
   "cell_type": "code",
   "execution_count": 3,
   "metadata": {},
   "outputs": [],
   "source": [
    "fashion_mnist = keras.datasets.fashion_mnist"
   ]
  },
  {
   "cell_type": "code",
   "execution_count": 113,
   "metadata": {},
   "outputs": [],
   "source": [
    "(x_train_full, y_train_full),(x_test,y_test) = fashion_mnist.load_data()\n",
    "x_new, y_new = x_test[:3],y_test[:3]"
   ]
  },
  {
   "cell_type": "code",
   "execution_count": 114,
   "metadata": {},
   "outputs": [
    {
     "data": {
      "text/plain": [
       "(60000, 28, 28)"
      ]
     },
     "execution_count": 114,
     "metadata": {},
     "output_type": "execute_result"
    }
   ],
   "source": [
    "x_train_full.shape"
   ]
  },
  {
   "cell_type": "code",
   "execution_count": 115,
   "metadata": {},
   "outputs": [
    {
     "data": {
      "text/plain": [
       "dtype('uint8')"
      ]
     },
     "execution_count": 115,
     "metadata": {},
     "output_type": "execute_result"
    }
   ],
   "source": [
    "x_train_full.dtype"
   ]
  },
  {
   "cell_type": "markdown",
   "metadata": {},
   "source": [
    "Scale the input Feature, donw to 0-1 range"
   ]
  },
  {
   "cell_type": "code",
   "execution_count": 116,
   "metadata": {},
   "outputs": [],
   "source": [
    "x_valid, x_train = x_train_full[:5000]/255.0, x_train_full[5000:]/255.0\n",
    "y_valid, y_train = y_train_full[:5000], y_train_full[5000:]"
   ]
  },
  {
   "cell_type": "markdown",
   "metadata": {},
   "source": [
    "Class name "
   ]
  },
  {
   "cell_type": "code",
   "execution_count": 8,
   "metadata": {},
   "outputs": [],
   "source": [
    "class_names = ['Tshirt','Trouser','Pullover','Dress','Coat','Sandal','Shirt','Sneaker','Bag','Ankle boot']"
   ]
  },
  {
   "cell_type": "code",
   "execution_count": 9,
   "metadata": {},
   "outputs": [
    {
     "data": {
      "text/plain": [
       "'Coat'"
      ]
     },
     "execution_count": 9,
     "metadata": {},
     "output_type": "execute_result"
    }
   ],
   "source": [
    "class_names[y_train[0]]"
   ]
  },
  {
   "cell_type": "markdown",
   "metadata": {},
   "source": [
    "## Let's build the NetWork"
   ]
  },
  {
   "cell_type": "code",
   "execution_count": 98,
   "metadata": {},
   "outputs": [],
   "source": [
    "model = keras.models.Sequential()\n",
    "model.add(keras.layers.Flatten(input_shape=[28,28]))\n",
    "model.add(keras.layers.Dense(300,activation='relu'))\n",
    "model.add(keras.layers.Dense(100,activation='relu'))\n",
    "model.add(keras.layers.Dense(10,activation='softmax'))"
   ]
  },
  {
   "cell_type": "markdown",
   "metadata": {},
   "source": [
    "## Or we can use:"
   ]
  },
  {
   "cell_type": "code",
   "execution_count": 99,
   "metadata": {},
   "outputs": [],
   "source": [
    "model = keras.models.Sequential([keras.layers.Flatten(input_shape=[28,28]),\n",
    "                                keras.layers.Dense(300,activation='relu'),\n",
    "                                keras.layers.Dense(100,activation='relu'),\n",
    "                                keras.layers.Dense(10,activation='softmax')])"
   ]
  },
  {
   "cell_type": "code",
   "execution_count": 38,
   "metadata": {},
   "outputs": [
    {
     "name": "stdout",
     "output_type": "stream",
     "text": [
      "Model: \"sequential_2\"\n",
      "_________________________________________________________________\n",
      "Layer (type)                 Output Shape              Param #   \n",
      "=================================================================\n",
      "flatten_2 (Flatten)          (None, 784)               0         \n",
      "_________________________________________________________________\n",
      "dense_6 (Dense)              (None, 300)               235500    \n",
      "_________________________________________________________________\n",
      "dense_7 (Dense)              (None, 100)               30100     \n",
      "_________________________________________________________________\n",
      "dense_8 (Dense)              (None, 10)                1010      \n",
      "=================================================================\n",
      "Total params: 266,610\n",
      "Trainable params: 266,610\n",
      "Non-trainable params: 0\n",
      "_________________________________________________________________\n"
     ]
    }
   ],
   "source": [
    "model.summary()"
   ]
  },
  {
   "cell_type": "markdown",
   "metadata": {},
   "source": [
    "## Initialize\n",
    "https://keras.io/initializers/"
   ]
  },
  {
   "cell_type": "code",
   "execution_count": 39,
   "metadata": {},
   "outputs": [
    {
     "data": {
      "image/png": "[encoded data removed]",
      "text/plain": [
       "<IPython.core.display.Image object>"
      ]
     },
     "execution_count": 39,
     "metadata": {},
     "output_type": "execute_result"
    }
   ],
   "source": [
    "keras.utils.plot_model(model)"
   ]
  },
  {
   "cell_type": "markdown",
   "metadata": {},
   "source": [
    "## Compiling\n",
    "https://keras.io/losses/ \\\n",
    "https://keras.io/optimizers/ \\\n",
    "https://keras.io/metrics/ \n",
    "\n",
    "The reason of using <strong>'sparse_categorical_crossentropy'</strong>  is that the label is sparse and classes are exclusive.\n",
    "\n",
    "If we are using one-hot, we can use <strong>'categorical_crossentropy'</strong>, and use keras.utils.to_categorial(), if we go other way around, we can use <strong>np.argmax()</strong> \n",
    "\n",
    "if we are using binary classification, we can use <strong>sigmoid</strong>  as activation, and <strong>'binary_crossentropy'</strong>  as loss."
   ]
  },
  {
   "cell_type": "code",
   "execution_count": 100,
   "metadata": {},
   "outputs": [],
   "source": [
    "model.compile(loss='sparse_categorical_crossentropy',optimizer='sgd',metrics=['accuracy'])"
   ]
  },
  {
   "cell_type": "code",
   "execution_count": 18,
   "metadata": {},
   "outputs": [
    {
     "name": "stdout",
     "output_type": "stream",
     "text": [
      "Train on 55000 samples, validate on 5000 samples\n",
      "Epoch 1/30\n",
      "55000/55000 [==============================] - 7s 123us/sample - loss: 0.7329 - accuracy: 0.7610 - val_loss: 0.5151 - val_accuracy: 0.8292\n",
      "Epoch 2/30\n",
      "55000/55000 [==============================] - 6s 104us/sample - loss: 0.4858 - accuracy: 0.8295 - val_loss: 0.4791 - val_accuracy: 0.8368\n",
      "Epoch 3/30\n",
      "55000/55000 [==============================] - 6s 104us/sample - loss: 0.4423 - accuracy: 0.8453 - val_loss: 0.4297 - val_accuracy: 0.8566\n",
      "Epoch 4/30\n",
      "55000/55000 [==============================] - 6s 104us/sample - loss: 0.4134 - accuracy: 0.8554 - val_loss: 0.3969 - val_accuracy: 0.8640\n",
      "Epoch 5/30\n",
      "55000/55000 [==============================] - 6s 107us/sample - loss: 0.3934 - accuracy: 0.8620 - val_loss: 0.4012 - val_accuracy: 0.8646\n",
      "Epoch 6/30\n",
      "55000/55000 [==============================] - 6s 112us/sample - loss: 0.3775 - accuracy: 0.8684 - val_loss: 0.3769 - val_accuracy: 0.8724\n",
      "Epoch 7/30\n",
      "55000/55000 [==============================] - 6s 105us/sample - loss: 0.3651 - accuracy: 0.8716 - val_loss: 0.4077 - val_accuracy: 0.8590\n",
      "Epoch 8/30\n",
      "55000/55000 [==============================] - 6s 106us/sample - loss: 0.3529 - accuracy: 0.8754 - val_loss: 0.3618 - val_accuracy: 0.8740\n",
      "Epoch 9/30\n",
      "55000/55000 [==============================] - 6s 109us/sample - loss: 0.3420 - accuracy: 0.8793 - val_loss: 0.3500 - val_accuracy: 0.8774\n",
      "Epoch 10/30\n",
      "55000/55000 [==============================] - 6s 107us/sample - loss: 0.3333 - accuracy: 0.8822 - val_loss: 0.3473 - val_accuracy: 0.8774\n",
      "Epoch 11/30\n",
      "55000/55000 [==============================] - 6s 106us/sample - loss: 0.3252 - accuracy: 0.8849 - val_loss: 0.3372 - val_accuracy: 0.8826\n",
      "Epoch 12/30\n",
      "55000/55000 [==============================] - 6s 111us/sample - loss: 0.3172 - accuracy: 0.8864 - val_loss: 0.3515 - val_accuracy: 0.8740\n",
      "Epoch 13/30\n",
      "55000/55000 [==============================] - 7s 121us/sample - loss: 0.3086 - accuracy: 0.8899 - val_loss: 0.3223 - val_accuracy: 0.8846\n",
      "Epoch 14/30\n",
      "55000/55000 [==============================] - 6s 107us/sample - loss: 0.3025 - accuracy: 0.8912 - val_loss: 0.3205 - val_accuracy: 0.8834\n",
      "Epoch 15/30\n",
      "55000/55000 [==============================] - 6s 107us/sample - loss: 0.2959 - accuracy: 0.8935 - val_loss: 0.3181 - val_accuracy: 0.8844\n",
      "Epoch 16/30\n",
      "55000/55000 [==============================] - 6s 107us/sample - loss: 0.2899 - accuracy: 0.8970 - val_loss: 0.3175 - val_accuracy: 0.8874\n",
      "Epoch 17/30\n",
      "55000/55000 [==============================] - 7s 121us/sample - loss: 0.2839 - accuracy: 0.8975 - val_loss: 0.3092 - val_accuracy: 0.8870\n",
      "Epoch 18/30\n",
      "55000/55000 [==============================] - 6s 112us/sample - loss: 0.2786 - accuracy: 0.8998 - val_loss: 0.3108 - val_accuracy: 0.8914\n",
      "Epoch 19/30\n",
      "55000/55000 [==============================] - 6s 112us/sample - loss: 0.2730 - accuracy: 0.9014 - val_loss: 0.3083 - val_accuracy: 0.8888\n",
      "Epoch 20/30\n",
      "55000/55000 [==============================] - 6s 109us/sample - loss: 0.2681 - accuracy: 0.9024 - val_loss: 0.3093 - val_accuracy: 0.8898\n",
      "Epoch 21/30\n",
      "55000/55000 [==============================] - 6s 114us/sample - loss: 0.2636 - accuracy: 0.9041 - val_loss: 0.3042 - val_accuracy: 0.8906\n",
      "Epoch 22/30\n",
      "55000/55000 [==============================] - 6s 113us/sample - loss: 0.2590 - accuracy: 0.9062 - val_loss: 0.3053 - val_accuracy: 0.8884\n",
      "Epoch 23/30\n",
      "55000/55000 [==============================] - 6s 113us/sample - loss: 0.2548 - accuracy: 0.9086 - val_loss: 0.3150 - val_accuracy: 0.8858\n",
      "Epoch 24/30\n",
      "55000/55000 [==============================] - 6s 111us/sample - loss: 0.2499 - accuracy: 0.9091 - val_loss: 0.3037 - val_accuracy: 0.8908\n",
      "Epoch 25/30\n",
      "55000/55000 [==============================] - 6s 112us/sample - loss: 0.2463 - accuracy: 0.9114 - val_loss: 0.2974 - val_accuracy: 0.8938\n",
      "Epoch 26/30\n",
      "55000/55000 [==============================] - 6s 110us/sample - loss: 0.2421 - accuracy: 0.9131 - val_loss: 0.3042 - val_accuracy: 0.8884\n",
      "Epoch 27/30\n",
      "55000/55000 [==============================] - 6s 109us/sample - loss: 0.2375 - accuracy: 0.9138 - val_loss: 0.3104 - val_accuracy: 0.8904\n",
      "Epoch 28/30\n",
      "55000/55000 [==============================] - 6s 108us/sample - loss: 0.2350 - accuracy: 0.9153 - val_loss: 0.3154 - val_accuracy: 0.8888\n",
      "Epoch 29/30\n",
      "55000/55000 [==============================] - 7s 123us/sample - loss: 0.2308 - accuracy: 0.9169 - val_loss: 0.2884 - val_accuracy: 0.8962\n",
      "Epoch 30/30\n",
      "55000/55000 [==============================] - 8s 154us/sample - loss: 0.2263 - accuracy: 0.9197 - val_loss: 0.2962 - val_accuracy: 0.8954\n"
     ]
    }
   ],
   "source": [
    "history = model.fit(x_train,y_train,epochs=30,validation_data=(x_valid,y_valid))"
   ]
  },
  {
   "cell_type": "code",
   "execution_count": 41,
   "metadata": {},
   "outputs": [
    {
     "data": {
      "text/plain": [
       "<matplotlib.axes._subplots.AxesSubplot at 0x15bff1b90>"
      ]
     },
     "execution_count": 41,
     "metadata": {},
     "output_type": "execute_result"
    },
    {
     "data": {
      "image/png": "[encoded data removed]",
      "text/plain": [
       "<Figure size 576x360 with 1 Axes>"
      ]
     },
     "metadata": {
      "needs_background": "light"
     },
     "output_type": "display_data"
    }
   ],
   "source": [
    "import pandas as pd\n",
    "import matplotlib.pyplot as plt\n",
    "import numpy as np\n",
    "pd.DataFrame(history.history).plot(figsize=(8,5))"
   ]
  },
  {
   "cell_type": "markdown",
   "metadata": {},
   "source": [
    "## Evaluate"
   ]
  },
  {
   "cell_type": "code",
   "execution_count": 42,
   "metadata": {},
   "outputs": [
    {
     "name": "stdout",
     "output_type": "stream",
     "text": [
      "10000/10000 [==============================] - 1s 83us/sample - loss: 177.8133 - accuracy: 0.0762\n"
     ]
    },
    {
     "data": {
      "text/plain": [
       "[177.81333942871095, 0.0762]"
      ]
     },
     "execution_count": 42,
     "metadata": {},
     "output_type": "execute_result"
    }
   ],
   "source": [
    "model.evaluate(x_test,y_test)"
   ]
  },
  {
   "cell_type": "markdown",
   "metadata": {},
   "source": [
    "## Make prediction \n",
    "predict probability"
   ]
  },
  {
   "cell_type": "code",
   "execution_count": 43,
   "metadata": {},
   "outputs": [
    {
     "data": {
      "text/plain": [
       "array([[0., 0., 0., 0., 0., 0., 0., 0., 0., 1.],\n",
       "       [0., 0., 0., 0., 0., 0., 0., 0., 0., 1.],\n",
       "       [0., 0., 0., 0., 0., 0., 0., 0., 0., 1.]], dtype=float32)"
      ]
     },
     "execution_count": 43,
     "metadata": {},
     "output_type": "execute_result"
    }
   ],
   "source": [
    "X_new = x_test[:3]\n",
    "y_prob = model.predict(X_new)\n",
    "y_prob.round(2)"
   ]
  },
  {
   "cell_type": "markdown",
   "metadata": {},
   "source": [
    "## Make prediction \n",
    "predict classes"
   ]
  },
  {
   "cell_type": "code",
   "execution_count": 44,
   "metadata": {},
   "outputs": [
    {
     "data": {
      "text/plain": [
       "array(['Ankle boot', 'Ankle boot', 'Ankle boot'], dtype='<U10')"
      ]
     },
     "execution_count": 44,
     "metadata": {},
     "output_type": "execute_result"
    }
   ],
   "source": [
    "y_pred = model.predict_classes(X_new)\n",
    "np.array(class_names)[y_pred]"
   ]
  },
  {
   "cell_type": "markdown",
   "metadata": {},
   "source": [
    "# Building a Regression MLP Using Sequencitial API"
   ]
  },
  {
   "cell_type": "markdown",
   "metadata": {},
   "source": [
    "### using Sklearn"
   ]
  },
  {
   "cell_type": "code",
   "execution_count": 143,
   "metadata": {},
   "outputs": [],
   "source": [
    "from sklearn.datasets import fetch_california_housing\n",
    "from sklearn.model_selection import train_test_split\n",
    "from sklearn.preprocessing import StandardScaler\n",
    "\n",
    "housing = fetch_california_housing()\n",
    "x_train_full, x_test, y_train_full, y_test = train_test_split(housing.data,housing.target)\n",
    "x_train, x_valid, y_train, y_valid = train_test_split(x_train_full,y_train_full)\n",
    "\n",
    "scaler = StandardScaler()\n",
    "x_train = scaler.fit_transform(x_train)\n",
    "x_valid = scaler.fit_transform(x_valid)\n",
    "x_test = scaler.fit_transform(x_test)\n",
    "x_new = x_test[:3]\n",
    "y_new = y_test[:3]"
   ]
  },
  {
   "cell_type": "markdown",
   "metadata": {},
   "source": [
    "### using TF"
   ]
  },
  {
   "cell_type": "code",
   "execution_count": 55,
   "metadata": {},
   "outputs": [
    {
     "name": "stdout",
     "output_type": "stream",
     "text": [
      "Train on 11610 samples, validate on 3870 samples\n",
      "Epoch 1/20\n",
      "11610/11610 [==============================] - 1s 89us/sample - loss: 1.1364 - val_loss: 0.5808\n",
      "Epoch 2/20\n",
      "11610/11610 [==============================] - 1s 57us/sample - loss: 0.5510 - val_loss: 0.5572\n",
      "Epoch 3/20\n",
      "11610/11610 [==============================] - 1s 57us/sample - loss: 0.4344 - val_loss: 0.5770\n",
      "Epoch 4/20\n",
      "11610/11610 [==============================] - 1s 56us/sample - loss: 0.4117 - val_loss: 0.6079\n",
      "Epoch 5/20\n",
      "11610/11610 [==============================] - 1s 61us/sample - loss: 0.3996 - val_loss: 0.6561\n",
      "Epoch 6/20\n",
      "11610/11610 [==============================] - 1s 66us/sample - loss: 0.3905 - val_loss: 0.7078\n",
      "Epoch 7/20\n",
      "11610/11610 [==============================] - 1s 77us/sample - loss: 0.3889 - val_loss: 0.7598\n",
      "Epoch 8/20\n",
      "11610/11610 [==============================] - 1s 62us/sample - loss: 0.3829 - val_loss: 0.7426\n",
      "Epoch 9/20\n",
      "11610/11610 [==============================] - 1s 59us/sample - loss: 0.3788 - val_loss: 0.8019\n",
      "Epoch 10/20\n",
      "11610/11610 [==============================] - 1s 59us/sample - loss: 0.3740 - val_loss: 0.7945\n",
      "Epoch 11/20\n",
      "11610/11610 [==============================] - 1s 73us/sample - loss: 0.3699 - val_loss: 0.8940\n",
      "Epoch 12/20\n",
      "11610/11610 [==============================] - 1s 81us/sample - loss: 0.3662 - val_loss: 0.8928\n",
      "Epoch 13/20\n",
      "11610/11610 [==============================] - 1s 69us/sample - loss: 0.3635 - val_loss: 0.9149\n",
      "Epoch 14/20\n",
      "11610/11610 [==============================] - 1s 58us/sample - loss: 0.3608 - val_loss: 0.9332\n",
      "Epoch 15/20\n",
      "11610/11610 [==============================] - 1s 59us/sample - loss: 0.3612 - val_loss: 0.9399\n",
      "Epoch 16/20\n",
      "11610/11610 [==============================] - 1s 56us/sample - loss: 0.3585 - val_loss: 0.9517\n",
      "Epoch 17/20\n",
      "11610/11610 [==============================] - 1s 62us/sample - loss: 0.3566 - val_loss: 0.9931\n",
      "Epoch 18/20\n",
      "11610/11610 [==============================] - 1s 79us/sample - loss: 0.3532 - val_loss: 1.0876\n",
      "Epoch 19/20\n",
      "11610/11610 [==============================] - 1s 71us/sample - loss: 0.3523 - val_loss: 1.0593\n",
      "Epoch 20/20\n",
      "11610/11610 [==============================] - 1s 61us/sample - loss: 0.3513 - val_loss: 1.1340\n",
      "5160/5160 [==============================] - 0s 34us/sample - loss: 0.4030\n"
     ]
    }
   ],
   "source": [
    "model = keras.models.Sequential()\n",
    "model.add(keras.layers.Dense(30,activation='relu',input_shape=x_train.shape[1:]))\n",
    "model.add(keras.layers.Dense(1))\n",
    "model.compile(loss='mean_squared_error',optimizer='sgd')\n",
    "history = model.fit(x_train,y_train,epochs=20,validation_data=(x_valid,y_valid))\n",
    "mse_test = model.evaluate(x_test,y_test)\n",
    "x = x_test[:3]\n",
    "y = y_test[:3]"
   ]
  },
  {
   "cell_type": "markdown",
   "metadata": {},
   "source": [
    "# Buiding Complex Models Using The functional API"
   ]
  },
  {
   "cell_type": "markdown",
   "metadata": {},
   "source": [
    "## Wide and deep NN\n",
    "make the network to learn not only the deep patterns and simple rules"
   ]
  },
  {
   "cell_type": "code",
   "execution_count": 58,
   "metadata": {},
   "outputs": [],
   "source": [
    "inputs_ = keras.layers.Input(shape=x_train.shape[1:])\n",
    "hidden1 = keras.layers.Dense(30,activation='relu')(inputs_)\n",
    "hidden2 = keras.layers.Dense(30,activation='relu')(hidden1)\n",
    "concat = keras.layers.Concatenate()([inputs_,hidden2])\n",
    "output = keras.layers.Dense(1)(concat)\n",
    "model = keras.Model(inputs=[inputs_],outputs=[output])"
   ]
  },
  {
   "cell_type": "code",
   "execution_count": 59,
   "metadata": {},
   "outputs": [
    {
     "data": {
      "image/png": "[encoded data removed]",
      "text/plain": [
       "<IPython.core.display.Image object>"
      ]
     },
     "execution_count": 59,
     "metadata": {},
     "output_type": "execute_result"
    }
   ],
   "source": [
    "keras.utils.plot_model(model)"
   ]
  },
  {
   "cell_type": "markdown",
   "metadata": {},
   "source": [
    "### Another form"
   ]
  },
  {
   "cell_type": "code",
   "execution_count": 63,
   "metadata": {},
   "outputs": [],
   "source": [
    "inputs_A = keras.layers.Input(shape=[5],name='wide_input')\n",
    "inputs_B = keras.layers.Input(shape=[6],name='deep_input')\n",
    "hidden1 = keras.layers.Dense(30,activation='relu')(inputs_B)\n",
    "hidden2 = keras.layers.Dense(30,activation='relu')(hidden1)\n",
    "concat = keras.layers.Concatenate()([inputs_A,hidden2])\n",
    "output = keras.layers.Dense(1,name='output')(concat)\n",
    "model = keras.Model(inputs=[inputs_A,inputs_B],outputs=[output])"
   ]
  },
  {
   "cell_type": "code",
   "execution_count": 64,
   "metadata": {},
   "outputs": [
    {
     "data": {
      "image/png": "[encoded data removed]",
      "text/plain": [
       "<IPython.core.display.Image object>"
      ]
     },
     "execution_count": 64,
     "metadata": {},
     "output_type": "execute_result"
    }
   ],
   "source": [
    "keras.utils.plot_model(model)"
   ]
  },
  {
   "cell_type": "code",
   "execution_count": 69,
   "metadata": {},
   "outputs": [
    {
     "name": "stdout",
     "output_type": "stream",
     "text": [
      "Train on 11610 samples, validate on 3870 samples\n",
      "Epoch 1/20\n",
      "11610/11610 [==============================] - 1s 88us/sample - loss: 0.4446 - val_loss: 0.4522\n",
      "Epoch 2/20\n",
      "11610/11610 [==============================] - 1s 60us/sample - loss: 0.4426 - val_loss: 0.4495\n",
      "Epoch 3/20\n",
      "11610/11610 [==============================] - 1s 56us/sample - loss: 0.4399 - val_loss: 0.4572\n",
      "Epoch 4/20\n",
      "11610/11610 [==============================] - 1s 56us/sample - loss: 0.4377 - val_loss: 0.4570\n",
      "Epoch 5/20\n",
      "11610/11610 [==============================] - 1s 57us/sample - loss: 0.4363 - val_loss: 0.4599\n",
      "Epoch 6/20\n",
      "11610/11610 [==============================] - 1s 58us/sample - loss: 0.4341 - val_loss: 0.4682\n",
      "Epoch 7/20\n",
      "11610/11610 [==============================] - 1s 57us/sample - loss: 0.4327 - val_loss: 0.4722\n",
      "Epoch 8/20\n",
      "11610/11610 [==============================] - 1s 57us/sample - loss: 0.4310 - val_loss: 0.4745\n",
      "Epoch 9/20\n",
      "11610/11610 [==============================] - 1s 57us/sample - loss: 0.4289 - val_loss: 0.4816\n",
      "Epoch 10/20\n",
      "11610/11610 [==============================] - 1s 56us/sample - loss: 0.4270 - val_loss: 0.4847\n",
      "Epoch 11/20\n",
      "11610/11610 [==============================] - 1s 56us/sample - loss: 0.4251 - val_loss: 0.4848\n",
      "Epoch 12/20\n",
      "11610/11610 [==============================] - 1s 57us/sample - loss: 0.4236 - val_loss: 0.4863\n",
      "Epoch 13/20\n",
      "11610/11610 [==============================] - 1s 56us/sample - loss: 0.4223 - val_loss: 0.5043\n",
      "Epoch 14/20\n",
      "11610/11610 [==============================] - 1s 57us/sample - loss: 0.4206 - val_loss: 0.5092\n",
      "Epoch 15/20\n",
      "11610/11610 [==============================] - 1s 57us/sample - loss: 0.4194 - val_loss: 0.5003\n",
      "Epoch 16/20\n",
      "11610/11610 [==============================] - 1s 57us/sample - loss: 0.4179 - val_loss: 0.5137\n",
      "Epoch 17/20\n",
      "11610/11610 [==============================] - 1s 56us/sample - loss: 0.4164 - val_loss: 0.5162\n",
      "Epoch 18/20\n",
      "11610/11610 [==============================] - 1s 58us/sample - loss: 0.4152 - val_loss: 0.5304\n",
      "Epoch 19/20\n",
      "11610/11610 [==============================] - 1s 58us/sample - loss: 0.4134 - val_loss: 0.5276\n",
      "Epoch 20/20\n",
      "11610/11610 [==============================] - 1s 58us/sample - loss: 0.4127 - val_loss: 0.5345\n",
      "5160/5160 [==============================] - 0s 32us/sample - loss: 0.4603\n"
     ]
    }
   ],
   "source": [
    "model.compile(loss='mse',optimizer=keras.optimizers.SGD(lr=1e-3))\n",
    "x_train_A, x_train_B = x_train[:,:5],x_train[:,2:]\n",
    "x_valid_A, x_valid_B = x_valid[:,:5],x_valid[:,2:]\n",
    "x_test_A, x_test_B = x_test[:,:5],x_test[:,2:]\n",
    "x_new_A, x_new_B = x_test[:3,:5],x_test[:3,2:]\n",
    "\n",
    "history = model.fit((x_train_A,x_train_B),y_train,epochs=20,validation_data=((x_valid_A,x_valid_B),y_valid))\n",
    "mse_test = model.evaluate((x_test_A,x_test_B),y_test)\n",
    "y_pred = model.predict((x_new_A,x_new_B))"
   ]
  },
  {
   "cell_type": "markdown",
   "metadata": {},
   "source": [
    "### Adding Auxiliary output "
   ]
  },
  {
   "cell_type": "code",
   "execution_count": 83,
   "metadata": {},
   "outputs": [
    {
     "data": {
      "image/png": "[encoded data removed]",
      "text/plain": [
       "<IPython.core.display.Image object>"
      ]
     },
     "execution_count": 83,
     "metadata": {},
     "output_type": "execute_result"
    }
   ],
   "source": [
    "inputs_A = keras.layers.Input(shape=[5],name='wide_input')\n",
    "inputs_B = keras.layers.Input(shape=[6],name='deep_input')\n",
    "hidden1 = keras.layers.Dense(30,activation='relu')(inputs_B)\n",
    "hidden2 = keras.layers.Dense(30,activation='relu')(hidden1)\n",
    "concat = keras.layers.Concatenate()([inputs_A,hidden2])\n",
    "output = keras.layers.Dense(1,name='main_output')(concat)\n",
    "aux_output = keras.layers.Dense(1,name='aux_output')(hidden2)\n",
    "model = keras.Model(inputs=[inputs_A,inputs_B],outputs=[output,aux_output])\n",
    "keras.utils.plot_model(model)"
   ]
  },
  {
   "cell_type": "code",
   "execution_count": 75,
   "metadata": {},
   "outputs": [
    {
     "name": "stdout",
     "output_type": "stream",
     "text": [
      "Train on 11610 samples, validate on 3870 samples\n",
      "Epoch 1/20\n",
      "11610/11610 [==============================] - 1s 107us/sample - loss: 1.0113 - main_output_loss: 0.8905 - aux_output_loss: 2.1017 - val_loss: 0.6492 - val_main_output_loss: 0.5756 - val_aux_output_loss: 1.3138\n",
      "Epoch 2/20\n",
      "11610/11610 [==============================] - 1s 61us/sample - loss: 0.6169 - main_output_loss: 0.5483 - aux_output_loss: 1.2333 - val_loss: 0.5398 - val_main_output_loss: 0.4784 - val_aux_output_loss: 1.0942\n",
      "Epoch 3/20\n",
      "11610/11610 [==============================] - 1s 61us/sample - loss: 0.5413 - main_output_loss: 0.4865 - aux_output_loss: 1.0330 - val_loss: 0.5212 - val_main_output_loss: 0.4752 - val_aux_output_loss: 0.9366\n",
      "Epoch 4/20\n",
      "11610/11610 [==============================] - 1s 67us/sample - loss: 0.5085 - main_output_loss: 0.4659 - aux_output_loss: 0.8928 - val_loss: 0.4815 - val_main_output_loss: 0.4405 - val_aux_output_loss: 0.8516\n",
      "Epoch 5/20\n",
      "11610/11610 [==============================] - 1s 70us/sample - loss: 0.4773 - main_output_loss: 0.4420 - aux_output_loss: 0.7949 - val_loss: 0.4964 - val_main_output_loss: 0.4619 - val_aux_output_loss: 0.8079\n",
      "Epoch 6/20\n",
      "11610/11610 [==============================] - 1s 60us/sample - loss: 0.4586 - main_output_loss: 0.4290 - aux_output_loss: 0.7252 - val_loss: 0.5224 - val_main_output_loss: 0.4910 - val_aux_output_loss: 0.8066\n",
      "Epoch 7/20\n",
      "11610/11610 [==============================] - 1s 61us/sample - loss: 0.4408 - main_output_loss: 0.4147 - aux_output_loss: 0.6753 - val_loss: 0.5870 - val_main_output_loss: 0.5578 - val_aux_output_loss: 0.8508\n",
      "Epoch 8/20\n",
      "11610/11610 [==============================] - 1s 62us/sample - loss: 0.4290 - main_output_loss: 0.4056 - aux_output_loss: 0.6400 - val_loss: 0.6324 - val_main_output_loss: 0.6016 - val_aux_output_loss: 0.9112\n",
      "Epoch 9/20\n",
      "11610/11610 [==============================] - 1s 61us/sample - loss: 0.4150 - main_output_loss: 0.3938 - aux_output_loss: 0.6055 - val_loss: 0.6614 - val_main_output_loss: 0.6301 - val_aux_output_loss: 0.9446\n",
      "Epoch 10/20\n",
      "11610/11610 [==============================] - 1s 62us/sample - loss: 0.4030 - main_output_loss: 0.3832 - aux_output_loss: 0.5822 - val_loss: 0.6758 - val_main_output_loss: 0.6430 - val_aux_output_loss: 0.9717\n",
      "Epoch 11/20\n",
      "11610/11610 [==============================] - 1s 61us/sample - loss: 0.3980 - main_output_loss: 0.3795 - aux_output_loss: 0.5639 - val_loss: 0.7901 - val_main_output_loss: 0.7553 - val_aux_output_loss: 1.1057\n",
      "Epoch 12/20\n",
      "11610/11610 [==============================] - 1s 63us/sample - loss: 0.3873 - main_output_loss: 0.3695 - aux_output_loss: 0.5478 - val_loss: 0.8974 - val_main_output_loss: 0.8637 - val_aux_output_loss: 1.2033\n",
      "Epoch 13/20\n",
      "11610/11610 [==============================] - 1s 63us/sample - loss: 0.3781 - main_output_loss: 0.3613 - aux_output_loss: 0.5289 - val_loss: 0.9345 - val_main_output_loss: 0.8960 - val_aux_output_loss: 1.2835\n",
      "Epoch 14/20\n",
      "11610/11610 [==============================] - 1s 62us/sample - loss: 0.3743 - main_output_loss: 0.3579 - aux_output_loss: 0.5223 - val_loss: 1.0168 - val_main_output_loss: 0.9806 - val_aux_output_loss: 1.3453\n",
      "Epoch 15/20\n",
      "11610/11610 [==============================] - 1s 62us/sample - loss: 0.3668 - main_output_loss: 0.3513 - aux_output_loss: 0.5059 - val_loss: 0.9723 - val_main_output_loss: 0.9347 - val_aux_output_loss: 1.3123\n",
      "Epoch 16/20\n",
      "11610/11610 [==============================] - 1s 62us/sample - loss: 0.3640 - main_output_loss: 0.3495 - aux_output_loss: 0.4953 - val_loss: 1.0839 - val_main_output_loss: 1.0451 - val_aux_output_loss: 1.4349\n",
      "Epoch 17/20\n",
      "11610/11610 [==============================] - 1s 65us/sample - loss: 0.3566 - main_output_loss: 0.3426 - aux_output_loss: 0.4828 - val_loss: 1.1610 - val_main_output_loss: 1.1204 - val_aux_output_loss: 1.5282\n",
      "Epoch 18/20\n",
      "11610/11610 [==============================] - 1s 61us/sample - loss: 0.3561 - main_output_loss: 0.3428 - aux_output_loss: 0.4795 - val_loss: 1.2076 - val_main_output_loss: 1.1689 - val_aux_output_loss: 1.5584\n",
      "Epoch 19/20\n",
      "11610/11610 [==============================] - 1s 62us/sample - loss: 0.3516 - main_output_loss: 0.3383 - aux_output_loss: 0.4709 - val_loss: 1.2358 - val_main_output_loss: 1.1982 - val_aux_output_loss: 1.5764\n",
      "Epoch 20/20\n",
      "11610/11610 [==============================] - 1s 61us/sample - loss: 0.3483 - main_output_loss: 0.3352 - aux_output_loss: 0.4655 - val_loss: 1.2970 - val_main_output_loss: 1.2609 - val_aux_output_loss: 1.6241\n"
     ]
    },
    {
     "data": {
      "text/plain": [
       "<tensorflow.python.keras.callbacks.History at 0x140b1f8d0>"
      ]
     },
     "execution_count": 75,
     "metadata": {},
     "output_type": "execute_result"
    }
   ],
   "source": [
    "model.compile(loss=['mse','mse'],loss_weights=[0.9,0.1],optimizer='sgd')\n",
    "model.fit((x_train_A,x_train_B),[y_train,y_train],epochs=20,validation_data=((x_valid_A,x_valid_B),[y_valid,y_valid]))"
   ]
  },
  {
   "cell_type": "code",
   "execution_count": 76,
   "metadata": {},
   "outputs": [
    {
     "name": "stdout",
     "output_type": "stream",
     "text": [
      "5160/5160 [==============================] - 0s 42us/sample - loss: 0.4228 - main_output_loss: 0.4086 - aux_output_loss: 0.5577\n"
     ]
    }
   ],
   "source": [
    "total_loss,main_loss,aux_loss = model.evaluate([x_test_A,x_test_B],[y_test,y_test])"
   ]
  },
  {
   "cell_type": "markdown",
   "metadata": {},
   "source": [
    "## Another version of Wide & Deep"
   ]
  },
  {
   "cell_type": "code",
   "execution_count": 77,
   "metadata": {},
   "outputs": [],
   "source": [
    "class WideAndDeepModel(keras.Model):\n",
    "    def __init__(self,units=30, activation='relu',**kwargs):\n",
    "        super().__init__(**kwargs)\n",
    "        self.hidden1 = keras.layers.Dense(units,activation=activation)\n",
    "        self.hidden2 = keras.layers.Dense(units,activation=activation)\n",
    "        self.main_output = keras.layers.Dense(1)\n",
    "        self.aux_output = keras.layers.Dense(1)\n",
    "    def call(self,inputs):\n",
    "        input_A,input_B = inputs\n",
    "        hidden1 = self.hidden1(inputB)\n",
    "        hidden2 = self.hidden2(hidden1)\n",
    "        concat = keras.layer.concatenate([input_A,hidden2])\n",
    "        main_output=self.main_output(concat)\n",
    "        aux_output = self.aux_output(hidden2)\n",
    "        return main_output,aux_output"
   ]
  },
  {
   "cell_type": "code",
   "execution_count": 78,
   "metadata": {},
   "outputs": [],
   "source": [
    "model = WideAndDeepModel()"
   ]
  },
  {
   "cell_type": "code",
   "execution_count": 79,
   "metadata": {},
   "outputs": [
    {
     "data": {
      "image/png": "[encoded data removed]",
      "text/plain": [
       "<IPython.core.display.Image object>"
      ]
     },
     "execution_count": 79,
     "metadata": {},
     "output_type": "execute_result"
    }
   ],
   "source": [
    "keras.utils.plot_model(model)"
   ]
  },
  {
   "cell_type": "markdown",
   "metadata": {},
   "source": [
    "# Saving and Restoring a Model\n",
    "for example, a model like"
   ]
  },
  {
   "cell_type": "code",
   "execution_count": null,
   "metadata": {},
   "outputs": [],
   "source": [
    "model = keras.model.Sequential([])\n",
    "model.complie([])\n",
    "model.fit([])"
   ]
  },
  {
   "cell_type": "markdown",
   "metadata": {},
   "source": [
    "We can use the following to save it:"
   ]
  },
  {
   "cell_type": "code",
   "execution_count": null,
   "metadata": {},
   "outputs": [],
   "source": [
    "model.save('mymodel.h5')"
   ]
  },
  {
   "cell_type": "markdown",
   "metadata": {},
   "source": [
    "And use load_model to load it:"
   ]
  },
  {
   "cell_type": "code",
   "execution_count": null,
   "metadata": {},
   "outputs": [],
   "source": [
    "model=keras.model.load_model('mymodel.h5')"
   ]
  },
  {
   "cell_type": "markdown",
   "metadata": {},
   "source": [
    "# Callbacks\n",
    "https://keras.io/callbacks/"
   ]
  },
  {
   "cell_type": "code",
   "execution_count": null,
   "metadata": {},
   "outputs": [],
   "source": [
    "checkpoint_cb = keras.callbacks.ModelCheckpoint('mykerasmodel.h5')\n",
    "history = model.fit(x_train,y_train,epochs=10,callbacks=[checkpoint_cb])"
   ]
  },
  {
   "cell_type": "code",
   "execution_count": null,
   "metadata": {},
   "outputs": [],
   "source": [
    "checkpoint_cb = keras.callbacks.ModelCheckpoint('mykerasmodel.h5',save_best_only=True)\n",
    "history = model.fit(x_train,y_train,epochs=10,callbacks=[checkpoint_cb])\n",
    "model = keras.model.load_model('mykerasmodel.h5')"
   ]
  },
  {
   "cell_type": "code",
   "execution_count": null,
   "metadata": {},
   "outputs": [],
   "source": [
    "checkpoint_cb = keras.callbacks.ModelCheckpoint('mykerasmodel.h5',save_best_only=True)\n",
    "early_stopping_cb = keras.callbacks.EarlyStopping(patience=10,restore_best_weights=True)\n",
    "history = model.fit(x_train,y_train,epochs=10,callbacks=[checkpoint_cb,early_stopping_cb])\n",
    "model = keras.model.load_model('mykerasmodel.h5')"
   ]
  },
  {
   "cell_type": "markdown",
   "metadata": {},
   "source": [
    "# Using Tensorboard For Visualization"
   ]
  },
  {
   "cell_type": "markdown",
   "metadata": {},
   "source": [
    "set directory"
   ]
  },
  {
   "cell_type": "code",
   "execution_count": 88,
   "metadata": {},
   "outputs": [],
   "source": [
    "import os\n",
    "root_logdir = os.path.join(os.curdir,'my_logs')\n",
    "\n",
    "def get_run_logdir():\n",
    "    import time\n",
    "    run_id = time.strftime('run_%Y_%m_%d-%H_%M_%S')\n",
    "    return os.path.join(root_logdir, run_id)\n",
    "\n",
    "run_logdir = get_run_logdir()"
   ]
  },
  {
   "cell_type": "code",
   "execution_count": 102,
   "metadata": {},
   "outputs": [
    {
     "name": "stdout",
     "output_type": "stream",
     "text": [
      "Train on 55000 samples, validate on 5000 samples\n",
      "Epoch 1/30\n",
      "55000/55000 [==============================] - 6s 109us/sample - loss: 0.7305 - accuracy: 0.7613 - val_loss: 0.5088 - val_accuracy: 0.8284\n",
      "Epoch 2/30\n",
      "55000/55000 [==============================] - 6s 105us/sample - loss: 0.4929 - accuracy: 0.8284 - val_loss: 0.4452 - val_accuracy: 0.8490\n",
      "Epoch 3/30\n",
      "55000/55000 [==============================] - 5s 98us/sample - loss: 0.4470 - accuracy: 0.8440 - val_loss: 0.4217 - val_accuracy: 0.8528\n",
      "Epoch 4/30\n",
      "55000/55000 [==============================] - 6s 102us/sample - loss: 0.4177 - accuracy: 0.8532 - val_loss: 0.4415 - val_accuracy: 0.8484\n",
      "Epoch 5/30\n",
      "55000/55000 [==============================] - 5s 99us/sample - loss: 0.3989 - accuracy: 0.8596 - val_loss: 0.3876 - val_accuracy: 0.8672\n",
      "Epoch 6/30\n",
      "55000/55000 [==============================] - 6s 103us/sample - loss: 0.3829 - accuracy: 0.8652 - val_loss: 0.3850 - val_accuracy: 0.8656\n",
      "Epoch 7/30\n",
      "55000/55000 [==============================] - 7s 129us/sample - loss: 0.3685 - accuracy: 0.8688 - val_loss: 0.3667 - val_accuracy: 0.8702\n",
      "Epoch 8/30\n",
      "55000/55000 [==============================] - 5s 95us/sample - loss: 0.3556 - accuracy: 0.8751 - val_loss: 0.3796 - val_accuracy: 0.8604\n",
      "Epoch 9/30\n",
      "55000/55000 [==============================] - 6s 103us/sample - loss: 0.3450 - accuracy: 0.8784 - val_loss: 0.3590 - val_accuracy: 0.8762\n",
      "Epoch 10/30\n",
      "55000/55000 [==============================] - 5s 86us/sample - loss: 0.3365 - accuracy: 0.8809 - val_loss: 0.3456 - val_accuracy: 0.8804\n",
      "Epoch 11/30\n",
      "55000/55000 [==============================] - 5s 85us/sample - loss: 0.3277 - accuracy: 0.8838 - val_loss: 0.3442 - val_accuracy: 0.8750\n",
      "Epoch 12/30\n",
      "55000/55000 [==============================] - 5s 83us/sample - loss: 0.3203 - accuracy: 0.8865 - val_loss: 0.3485 - val_accuracy: 0.8760\n",
      "Epoch 13/30\n",
      "55000/55000 [==============================] - 5s 83us/sample - loss: 0.3133 - accuracy: 0.8879 - val_loss: 0.3285 - val_accuracy: 0.8858\n",
      "Epoch 14/30\n",
      "55000/55000 [==============================] - 5s 84us/sample - loss: 0.3056 - accuracy: 0.8907 - val_loss: 0.3242 - val_accuracy: 0.8872\n",
      "Epoch 15/30\n",
      "55000/55000 [==============================] - 5s 85us/sample - loss: 0.2992 - accuracy: 0.8931 - val_loss: 0.3200 - val_accuracy: 0.8860\n",
      "Epoch 16/30\n",
      "55000/55000 [==============================] - 5s 85us/sample - loss: 0.2924 - accuracy: 0.8953 - val_loss: 0.3135 - val_accuracy: 0.8878\n",
      "Epoch 17/30\n",
      "55000/55000 [==============================] - 5s 84us/sample - loss: 0.2856 - accuracy: 0.8969 - val_loss: 0.3432 - val_accuracy: 0.8772\n",
      "Epoch 18/30\n",
      "55000/55000 [==============================] - 5s 83us/sample - loss: 0.2812 - accuracy: 0.8991 - val_loss: 0.3184 - val_accuracy: 0.8828\n",
      "Epoch 19/30\n",
      "55000/55000 [==============================] - 5s 83us/sample - loss: 0.2756 - accuracy: 0.9010 - val_loss: 0.3259 - val_accuracy: 0.8836\n",
      "Epoch 20/30\n",
      "55000/55000 [==============================] - 5s 83us/sample - loss: 0.2716 - accuracy: 0.9025 - val_loss: 0.3079 - val_accuracy: 0.8870\n",
      "Epoch 21/30\n",
      "55000/55000 [==============================] - 5s 85us/sample - loss: 0.2654 - accuracy: 0.9045 - val_loss: 0.3170 - val_accuracy: 0.8862\n",
      "Epoch 22/30\n",
      "55000/55000 [==============================] - 5s 85us/sample - loss: 0.2618 - accuracy: 0.9059 - val_loss: 0.3299 - val_accuracy: 0.8800\n",
      "Epoch 23/30\n",
      "55000/55000 [==============================] - 5s 83us/sample - loss: 0.2563 - accuracy: 0.9080 - val_loss: 0.3242 - val_accuracy: 0.8890\n",
      "Epoch 24/30\n",
      "55000/55000 [==============================] - 5s 92us/sample - loss: 0.2524 - accuracy: 0.9100 - val_loss: 0.3024 - val_accuracy: 0.8902\n",
      "Epoch 25/30\n",
      "55000/55000 [==============================] - 6s 114us/sample - loss: 0.2475 - accuracy: 0.9110 - val_loss: 0.2968 - val_accuracy: 0.8970\n",
      "Epoch 26/30\n",
      "55000/55000 [==============================] - 6s 106us/sample - loss: 0.2434 - accuracy: 0.9124 - val_loss: 0.3020 - val_accuracy: 0.8918\n",
      "Epoch 27/30\n",
      "55000/55000 [==============================] - 6s 107us/sample - loss: 0.2404 - accuracy: 0.9135 - val_loss: 0.3091 - val_accuracy: 0.8906\n",
      "Epoch 28/30\n",
      "55000/55000 [==============================] - 6s 112us/sample - loss: 0.2358 - accuracy: 0.9154 - val_loss: 0.3133 - val_accuracy: 0.8880\n",
      "Epoch 29/30\n",
      "55000/55000 [==============================] - 6s 110us/sample - loss: 0.2320 - accuracy: 0.9171 - val_loss: 0.3065 - val_accuracy: 0.8908\n",
      "Epoch 30/30\n",
      "55000/55000 [==============================] - 6s 112us/sample - loss: 0.2282 - accuracy: 0.9179 - val_loss: 0.2876 - val_accuracy: 0.8998\n"
     ]
    }
   ],
   "source": [
    "tensorboard_cb = keras.callbacks.TensorBoard(run_logdir)\n",
    "history = model.fit(x_train,y_train,epochs=30, validation_data=(x_valid,y_valid),callbacks=[tensorboard_cb])"
   ]
  },
  {
   "cell_type": "code",
   "execution_count": 103,
   "metadata": {},
   "outputs": [],
   "source": [
    "%load_ext tensorboard"
   ]
  },
  {
   "cell_type": "code",
   "execution_count": 106,
   "metadata": {},
   "outputs": [
    {
     "data": {
      "text/html": [
       "\n",
       "      <iframe id=\"tensorboard-frame-b4e9f4fa8a4cc0dd\" width=\"100%\" height=\"800\" frameborder=\"0\">\n",
       "      </iframe>\n",
       "      <script>\n",
       "        (function() {\n",
       "          const frame = document.getElementById(\"tensorboard-frame-b4e9f4fa8a4cc0dd\");\n",
       "          const url = new URL(\"/\", window.location);\n",
       "          url.port = 6007;\n",
       "          frame.src = url;\n",
       "        })();\n",
       "      </script>\n",
       "  "
      ],
      "text/plain": [
       "<IPython.core.display.HTML object>"
      ]
     },
     "metadata": {},
     "output_type": "display_data"
    }
   ],
   "source": [
    "%tensorboard --logdir=./my_logs --port=6007"
   ]
  },
  {
   "cell_type": "markdown",
   "metadata": {},
   "source": [
    "# Fine-Tuning Neural Network"
   ]
  },
  {
   "cell_type": "markdown",
   "metadata": {},
   "source": [
    "create a func that will build and compile keras model|"
   ]
  },
  {
   "cell_type": "code",
   "execution_count": 140,
   "metadata": {},
   "outputs": [],
   "source": [
    "def build_model(n_hidden =1, n_neurons=30, learning_rate = 3e-3, input_shape=[8]):\n",
    "    model = keras.models.Sequential()\n",
    "    model.add(keras.layers.InputLayer(input_shape=input_shape))\n",
    "   # model.add(keras.layers.Flatten())\n",
    "    for layer in range(n_hidden):\n",
    "        model.add(keras.layers.Dense(n_neurons,activation='relu'))\n",
    "    model.add(keras.layers.Dense(1))\n",
    "    optimizer = keras.optimizers.SGD(lr=learning_rate)\n",
    "    model.compile(loss='mse',optimizer=optimizer)\n",
    "    return model"
   ]
  },
  {
   "cell_type": "markdown",
   "metadata": {},
   "source": [
    "create a KerasRegressor based on the build_model()"
   ]
  },
  {
   "cell_type": "code",
   "execution_count": 141,
   "metadata": {},
   "outputs": [],
   "source": [
    "keras_reg = keras.wrappers.scikit_learn.KerasRegressor(build_model)"
   ]
  },
  {
   "cell_type": "code",
   "execution_count": 144,
   "metadata": {},
   "outputs": [
    {
     "name": "stdout",
     "output_type": "stream",
     "text": [
      "Train on 11610 samples, validate on 3870 samples\n",
      "Epoch 1/100\n",
      "11610/11610 [==============================] - 1s 86us/sample - loss: 1.7017 - val_loss: 0.8997\n",
      "Epoch 2/100\n",
      "11610/11610 [==============================] - 1s 61us/sample - loss: 0.7830 - val_loss: 0.6389\n",
      "Epoch 3/100\n",
      "11610/11610 [==============================] - 1s 55us/sample - loss: 0.5685 - val_loss: 0.5817\n",
      "Epoch 4/100\n",
      "11610/11610 [==============================] - 1s 54us/sample - loss: 0.5241 - val_loss: 0.5507\n",
      "Epoch 5/100\n",
      "11610/11610 [==============================] - 1s 55us/sample - loss: 0.4947 - val_loss: 0.5346\n",
      "Epoch 6/100\n",
      "11610/11610 [==============================] - 1s 55us/sample - loss: 0.4765 - val_loss: 0.5213\n",
      "Epoch 7/100\n",
      "11610/11610 [==============================] - 1s 55us/sample - loss: 0.4647 - val_loss: 0.5164\n",
      "Epoch 8/100\n",
      "11610/11610 [==============================] - 1s 55us/sample - loss: 0.4566 - val_loss: 0.5094\n",
      "Epoch 9/100\n",
      "11610/11610 [==============================] - 1s 55us/sample - loss: 0.4496 - val_loss: 0.5052\n",
      "Epoch 10/100\n",
      "11610/11610 [==============================] - 1s 56us/sample - loss: 0.4441 - val_loss: 0.5072\n",
      "Epoch 11/100\n",
      "11610/11610 [==============================] - 1s 56us/sample - loss: 0.4397 - val_loss: 0.5004\n",
      "Epoch 12/100\n",
      "11610/11610 [==============================] - 1s 55us/sample - loss: 0.4348 - val_loss: 0.5018\n",
      "Epoch 13/100\n",
      "11610/11610 [==============================] - 1s 66us/sample - loss: 0.4318 - val_loss: 0.4971\n",
      "Epoch 14/100\n",
      "11610/11610 [==============================] - 1s 87us/sample - loss: 0.4297 - val_loss: 0.4983\n",
      "Epoch 15/100\n",
      "11610/11610 [==============================] - 1s 64us/sample - loss: 0.4260 - val_loss: 0.5036\n",
      "Epoch 16/100\n",
      "11610/11610 [==============================] - 1s 57us/sample - loss: 0.4243 - val_loss: 0.4955\n",
      "Epoch 17/100\n",
      "11610/11610 [==============================] - 1s 56us/sample - loss: 0.4213 - val_loss: 0.4946\n",
      "Epoch 18/100\n",
      "11610/11610 [==============================] - 1s 62us/sample - loss: 0.4195 - val_loss: 0.4901\n",
      "Epoch 19/100\n",
      "11610/11610 [==============================] - 1s 74us/sample - loss: 0.4167 - val_loss: 0.4912\n",
      "Epoch 20/100\n",
      "11610/11610 [==============================] - 1s 62us/sample - loss: 0.4143 - val_loss: 0.4902\n",
      "Epoch 21/100\n",
      "11610/11610 [==============================] - 1s 70us/sample - loss: 0.4121 - val_loss: 0.4923\n",
      "Epoch 22/100\n",
      "11610/11610 [==============================] - 1s 61us/sample - loss: 0.4104 - val_loss: 0.4888\n",
      "Epoch 23/100\n",
      "11610/11610 [==============================] - 1s 58us/sample - loss: 0.4088 - val_loss: 0.4913\n",
      "Epoch 24/100\n",
      "11610/11610 [==============================] - 1s 58us/sample - loss: 0.4071 - val_loss: 0.4885\n",
      "Epoch 25/100\n",
      "11610/11610 [==============================] - 1s 83us/sample - loss: 0.4049 - val_loss: 0.4925\n",
      "Epoch 26/100\n",
      "11610/11610 [==============================] - 1s 65us/sample - loss: 0.4033 - val_loss: 0.4897\n",
      "Epoch 27/100\n",
      "11610/11610 [==============================] - 1s 58us/sample - loss: 0.4013 - val_loss: 0.4937\n",
      "Epoch 28/100\n",
      "11610/11610 [==============================] - 1s 88us/sample - loss: 0.4013 - val_loss: 0.4830\n",
      "Epoch 29/100\n",
      "11610/11610 [==============================] - 1s 64us/sample - loss: 0.3981 - val_loss: 0.4801\n",
      "Epoch 30/100\n",
      "11610/11610 [==============================] - 1s 60us/sample - loss: 0.3965 - val_loss: 0.4881\n",
      "Epoch 31/100\n",
      "11610/11610 [==============================] - 1s 71us/sample - loss: 0.3958 - val_loss: 0.4906\n",
      "Epoch 32/100\n",
      "11610/11610 [==============================] - 1s 63us/sample - loss: 0.3936 - val_loss: 0.4805\n",
      "Epoch 33/100\n",
      "11610/11610 [==============================] - 1s 72us/sample - loss: 0.3924 - val_loss: 0.4922\n",
      "Epoch 34/100\n",
      "11610/11610 [==============================] - 1s 73us/sample - loss: 0.3921 - val_loss: 0.4887\n",
      "Epoch 35/100\n",
      "11610/11610 [==============================] - 1s 63us/sample - loss: 0.3897 - val_loss: 0.4876\n",
      "Epoch 36/100\n",
      "11610/11610 [==============================] - 1s 57us/sample - loss: 0.3886 - val_loss: 0.4805\n",
      "Epoch 37/100\n",
      "11610/11610 [==============================] - 1s 60us/sample - loss: 0.3874 - val_loss: 0.4713\n",
      "Epoch 38/100\n",
      "11610/11610 [==============================] - 1s 58us/sample - loss: 0.3864 - val_loss: 0.4772\n",
      "Epoch 39/100\n",
      "11610/11610 [==============================] - 1s 64us/sample - loss: 0.3848 - val_loss: 0.4787\n",
      "Epoch 40/100\n",
      "11610/11610 [==============================] - 1s 94us/sample - loss: 0.3837 - val_loss: 0.4807\n",
      "Epoch 41/100\n",
      "11610/11610 [==============================] - 1s 65us/sample - loss: 0.3830 - val_loss: 0.4823\n",
      "Epoch 42/100\n",
      "11610/11610 [==============================] - 1s 64us/sample - loss: 0.3828 - val_loss: 0.4782\n",
      "Epoch 43/100\n",
      "11610/11610 [==============================] - 1s 58us/sample - loss: 0.3801 - val_loss: 0.4814\n",
      "Epoch 44/100\n",
      "11610/11610 [==============================] - 1s 59us/sample - loss: 0.3794 - val_loss: 0.4809\n",
      "Epoch 45/100\n",
      "11610/11610 [==============================] - 1s 57us/sample - loss: 0.3788 - val_loss: 0.4768\n",
      "Epoch 46/100\n",
      "11610/11610 [==============================] - 1s 59us/sample - loss: 0.3787 - val_loss: 0.4755\n",
      "Epoch 47/100\n",
      "11610/11610 [==============================] - 1s 58us/sample - loss: 0.3773 - val_loss: 0.4733\n",
      "5160/5160 [==============================] - 0s 33us/sample - loss: 1.8564\n"
     ]
    }
   ],
   "source": [
    "keras_reg.fit(x_train,y_train,epochs=100,validation_data=(x_valid,y_valid),callbacks=[keras.callbacks.EarlyStopping(patience=10)])\n",
    "mse_test = keras_reg.score(x_test,y_test)\n",
    "y_pred = keras_reg.predict(x_new)"
   ]
  },
  {
   "cell_type": "markdown",
   "metadata": {},
   "source": [
    "Use Randomized Search than using GridSearch"
   ]
  },
  {
   "cell_type": "code",
   "execution_count": null,
   "metadata": {},
   "outputs": [
    {
     "name": "stdout",
     "output_type": "stream",
     "text": [
      "Train on 7740 samples, validate on 3870 samples\n",
      "Epoch 1/100\n",
      "  32/7740 [..............................] - ETA: 1:40 - loss: 5.8099"
     ]
    }
   ],
   "source": [
    "from scipy.stats import reciprocal\n",
    "from sklearn.model_selection import RandomizedSearchCV\n",
    "param_distribs = {\n",
    "    'n_hidden': [0,1,2,3],\n",
    "    'n_neurons':np.arange(1,100),\n",
    "    'learning_rate':reciprocal(3e-4,3e-2)\n",
    "}\n",
    "rnd_search_cv = RandomizedSearchCV(keras_reg, param_distribs, n_iter=10, cv=3)\n",
    "rnd_search_cv.fit(x_train,y_train,epochs=100,validation_data=(x_valid,y_valid),callbacks = [keras.callbacks.EarlyStopping(patience=10)])"
   ]
  },
  {
   "cell_type": "code",
   "execution_count": 139,
   "metadata": {},
   "outputs": [
    {
     "data": {
      "text/plain": [
       "(11610, 8)"
      ]
     },
     "execution_count": 139,
     "metadata": {},
     "output_type": "execute_result"
    }
   ],
   "source": [
    "x_train.shape"
   ]
  },
  {
   "cell_type": "code",
   "execution_count": null,
   "metadata": {},
   "outputs": [],
   "source": []
  }
 ],
 "metadata": {
  "kernelspec": {
   "display_name": "Python 3",
   "language": "python",
   "name": "python3"
  },
  "language_info": {
   "codemirror_mode": {
    "name": "ipython",
    "version": 3
   },
   "file_extension": ".py",
   "mimetype": "text/x-python",
   "name": "python",
   "nbconvert_exporter": "python",
   "pygments_lexer": "ipython3",
   "version": "3.7.5"
  }
 },
 "nbformat": 4,
 "nbformat_minor": 2
}
